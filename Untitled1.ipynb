{
 "cells": [
  {
   "cell_type": "code",
   "execution_count": 10,
   "metadata": {},
   "outputs": [
    {
     "data": {
      "text/plain": [
       "[<matplotlib.lines.Line2D at 0x121b947f0>]"
      ]
     },
     "execution_count": 10,
     "metadata": {},
     "output_type": "execute_result"
    },
    {
     "data": {
      "image/png": "[encoded data removed]",
      "text/plain": [
       "<matplotlib.figure.Figure at 0x11e115710>"
      ]
     },
     "metadata": {},
     "output_type": "display_data"
    }
   ],
   "source": [
    "from PIL import Image, ImageDraw, ImageFont\n",
    "# get an image\n",
    "import matplotlib.pyplot as plt\n",
    "%matplotlib inline\n",
    "im_path = \"https://upload.wikimedia.org/wikipedia/commons/thumb/1/12/%C3%89lectricit%C3%A9_de_France_logo.svg/langfr-2880px-%C3%89lectricit%C3%A9_de_France_logo.svg.png\"\n",
    "import requests\n",
    "from io import BytesIO\n",
    "import numpy as np\n",
    "\n",
    "response = requests.get(im_path)\n",
    "img = Image.open(BytesIO(response.content)).convert('RGBA')\n",
    "\n",
    "npim = np.array(img)\n",
    "\n",
    "\n",
    "def f(x, A=100, omega=0.03, phi= 1, a=1, b=0):\n",
    "        f_x = A*np.sin(omega*x+phi)\n",
    "        g_x = a*x+b\n",
    "        return(f_x + g_x)\n",
    "    \n",
    "x = [x for x in range(npim.shape[0])]\n",
    "y = [f(x) for x in range(npim.shape[0])]\n",
    "fig, ax = plt.subplots()\n",
    "ax.imshow(npim)\n",
    "ax.plot(x, y)\n",
    "#ax.axis('off')"
   ]
  },
  {
   "cell_type": "code",
   "execution_count": null,
   "metadata": {
    "collapsed": true
   },
   "outputs": [],
   "source": []
  },
  {
   "cell_type": "code",
   "execution_count": null,
   "metadata": {
    "collapsed": true
   },
   "outputs": [],
   "source": []
  }
 ],
 "metadata": {
  "kernelspec": {
   "display_name": "Python [conda env:anaconda3]",
   "language": "python",
   "name": "conda-env-anaconda3-py"
  },
  "language_info": {
   "codemirror_mode": {
    "name": "ipython",
    "version": 3
   },
   "file_extension": ".py",
   "mimetype": "text/x-python",
   "name": "python",
   "nbconvert_exporter": "python",
   "pygments_lexer": "ipython3",
   "version": "3.6.3"
  }
 },
 "nbformat": 4,
 "nbformat_minor": 2
}
